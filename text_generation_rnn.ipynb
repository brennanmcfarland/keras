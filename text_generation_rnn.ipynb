{
 "cells": [
  {
   "cell_type": "markdown",
   "metadata": {},
   "source": [
    "Scrape the source plaintext from the webpage"
   ]
  },
  {
   "cell_type": "code",
   "execution_count": 4,
   "metadata": {},
   "outputs": [],
   "source": [
    "from bs4 import BeautifulSoup\n",
    "import urllib.request as urllib"
   ]
  },
  {
   "cell_type": "code",
   "execution_count": 11,
   "metadata": {},
   "outputs": [],
   "source": [
    "# sym is a symbolic link to help portability\n",
    "def source_from_html(url):\n",
    "    html = urllib.urlopen(url)\n",
    "    soup = BeautifulSoup(html, 'html.parser')\n",
    "    # if url == \"file:/sym/ML/LOTR_fellowship_of_ring.html\":\n",
    "    if url == \"file:/home/iamroot/LOTR_temp/LOTR_fellowship_of_ring.htm\":\n",
    "        source_tagged = soup.h3.parent.find_next_siblings('p')\n",
    "    else:\n",
    "        source_tagged = soup.h3.parent.parent.find_next_siblings('p')\n",
    "    source = ' '.join([t.get_text().replace('\\r\\n', ' ').replace('\\n', ' ') for t in source_tagged[:-2]])\n",
    "    return source"
   ]
  },
  {
   "cell_type": "code",
   "execution_count": 12,
   "metadata": {},
   "outputs": [],
   "source": [
    "# TODO: is removing punctuation necessary?  first try it without\n",
    "# doing so and see what happens\n",
    "source_urls = [\n",
    "    \"file:/home/iamroot/LOTR_temp/LOTR_fellowship_of_ring.htm\",\n",
    "    \"file:/home/iamroot/LOTR_temp/LOTR_two_towers.htm\",\n",
    "    \"file:/home/iamroot/LOTR_temp/LOTR_return_of_king.htm\"]\n",
    "    #\"file:/sym/ML/LOTR_fellowship_of_ring.html\",\n",
    "    #\"file:/sym/ML/LOTR_two_towers.html\",\n",
    "    #\"file:/sym/ML/LOTR_return_of_king.html\"]\n",
    "sources = [source_from_html(source_url) for source_url in source_urls]\n",
    "source = ' '.join(sources)"
   ]
  },
  {
   "cell_type": "code",
   "execution_count": 38,
   "metadata": {},
   "outputs": [],
   "source": [
    "source_len = len(source)"
   ]
  },
  {
   "cell_type": "markdown",
   "metadata": {},
   "source": [
    "Split the source text into overlapping word sequences"
   ]
  },
  {
   "cell_type": "code",
   "execution_count": 13,
   "metadata": {},
   "outputs": [],
   "source": [
    "# split the source into overlapping subsequences of words\n",
    "# each subsequence will be converted into a vector input for the NN\n",
    "# step defines the offset of the overlapping\n",
    "def split_source(source, sequence_length, step):\n",
    "    words = source.split()\n",
    "    num_words = len(words)\n",
    "    for i in range(0, num_words-sequence_length, step):\n",
    "        yield ' '.join(words[i:i+sequence_length])\n"
   ]
  },
  {
   "cell_type": "code",
   "execution_count": 198,
   "metadata": {},
   "outputs": [],
   "source": [
    "sequence_length = 40\n",
    "step = 3\n",
    "sequences = list(split_source(source, sequence_length, step))"
   ]
  },
  {
   "cell_type": "code",
   "execution_count": 199,
   "metadata": {},
   "outputs": [
    {
     "name": "stdout",
     "output_type": "stream",
     "text": [
      "['This book is largely concerned with Hobbits, and from its pages a reader may discover much of their character and a little of their history. Further information will also be found in the selection from the Red Book of Westmarch', 'largely concerned with Hobbits, and from its pages a reader may discover much of their character and a little of their history. Further information will also be found in the selection from the Red Book of Westmarch that has already', 'Hobbits, and from its pages a reader may discover much of their character and a little of their history. Further information will also be found in the selection from the Red Book of Westmarch that has already been published, under']\n"
     ]
    }
   ],
   "source": [
    "# don't forget sequences is a generator and so must be explicitly\n",
    "# cast to a list\n",
    "print(sequences[:3])"
   ]
  },
  {
   "cell_type": "markdown",
   "metadata": {},
   "source": [
    "convert the word sequences into numerical vectors to feed into the RNN"
   ]
  },
  {
   "cell_type": "code",
   "execution_count": 189,
   "metadata": {},
   "outputs": [],
   "source": [
    "# NOTE: CANNOT USE TOKENIZER THAT ONLY WORKS FOR BAG OF WORDS\n",
    "# AND IGNORES WORD ORDER, HAVE TO DO IT THE WAY THE EXAMPLE\n",
    "# DOES INSTEAD, MANUALLY\n",
    "# TODO: the above, what the example does is creates a dictionary\n",
    "# of (key, word) pairs, then from there creates a 3d vector where:\n",
    "#     dimension 1 is the sequences\n",
    "#     dimension 2 is the words in a given sequence (of length sequence_length)\n",
    "#     dimension 3 contains all 0s except for a 1 in the index corresponding to\n",
    "#      the given word's dictionary key value\n",
    "# that may not be exactly how the example does it (it seems to do stuff with\n",
    "#  characters too), but that's how I should probably do it,\n",
    "# the result will be the input tensor that can be fed into the model"
   ]
  },
  {
   "cell_type": "code",
   "execution_count": 200,
   "metadata": {},
   "outputs": [],
   "source": [
    "# assign each word to a unique number as a dict key\n",
    "words = source.split()\n",
    "word_indices = dict((w, i) for i, w in enumerate(words))\n",
    "index_words = dict((i, w) for i, w in enumerate(words))\n",
    "corpus_size = sum(word_indices.values())"
   ]
  },
  {
   "cell_type": "code",
   "execution_count": 26,
   "metadata": {},
   "outputs": [],
   "source": [
    "import numpy as np"
   ]
  },
  {
   "cell_type": "code",
   "execution_count": 214,
   "metadata": {},
   "outputs": [
    {
     "name": "stdout",
     "output_type": "stream",
     "text": [
      "155720\n",
      "40\n",
      "9933778244\n"
     ]
    },
    {
     "ename": "MemoryError",
     "evalue": "",
     "output_type": "error",
     "traceback": [
      "\u001b[0;31m--------------------------------------------------------------------------\u001b[0m",
      "\u001b[0;31mMemoryError\u001b[0m                              Traceback (most recent call last)",
      "\u001b[0;32m<ipython-input-214-e279b2d815cc>\u001b[0m in \u001b[0;36m<module>\u001b[0;34m()\u001b[0m\n\u001b[1;32m      5\u001b[0m \u001b[0mprint\u001b[0m\u001b[0;34m(\u001b[0m\u001b[0msequence_length\u001b[0m\u001b[0;34m)\u001b[0m\u001b[0;34m\u001b[0m\u001b[0m\n\u001b[1;32m      6\u001b[0m \u001b[0mprint\u001b[0m\u001b[0;34m(\u001b[0m\u001b[0mcorpus_size\u001b[0m\u001b[0;34m)\u001b[0m\u001b[0;34m\u001b[0m\u001b[0m\n\u001b[0;32m----> 7\u001b[0;31m \u001b[0minput_vectors\u001b[0m \u001b[0;34m=\u001b[0m \u001b[0mnp\u001b[0m\u001b[0;34m.\u001b[0m\u001b[0mzeros\u001b[0m\u001b[0;34m(\u001b[0m\u001b[0;34m(\u001b[0m\u001b[0mlen\u001b[0m\u001b[0;34m(\u001b[0m\u001b[0msequences\u001b[0m\u001b[0;34m)\u001b[0m\u001b[0;34m,\u001b[0m \u001b[0msequence_length\u001b[0m\u001b[0;34m,\u001b[0m \u001b[0mcorpus_size\u001b[0m\u001b[0;34m)\u001b[0m\u001b[0;34m)\u001b[0m\u001b[0;34m\u001b[0m\u001b[0m\n\u001b[0m\u001b[1;32m      8\u001b[0m \u001b[0;34m\u001b[0m\u001b[0m\n\u001b[1;32m      9\u001b[0m \u001b[0;31m# TODO: set the index values of the words to 1 as in the example code\u001b[0m\u001b[0;34m\u001b[0m\u001b[0;34m\u001b[0m\u001b[0m\n",
      "\u001b[0;31mMemoryError\u001b[0m: "
     ]
    }
   ],
   "source": [
    "# convert the word sequences to vectors\n",
    "# TODO: it gives a memory error, because the matrix is too big!\n",
    "# need to split it up into separate training batches\n",
    "print(len(sequences))\n",
    "print(sequence_length)\n",
    "print(corpus_size)\n",
    "input_vectors = np.zeros((len(sequences), sequence_length, corpus_size))\n",
    "\n",
    "# TODO: set the index values of the words to 1 as in the example code"
   ]
  },
  {
   "cell_type": "markdown",
   "metadata": {},
   "source": [
    "since words are too much, use characters instead:"
   ]
  },
  {
   "cell_type": "code",
   "execution_count": 23,
   "metadata": {},
   "outputs": [
    {
     "name": "stdout",
     "output_type": "stream",
     "text": [
      "char count: 102\n"
     ]
    }
   ],
   "source": [
    "# assign each char to a number as a dict key\n",
    "chars = sorted(list(set(source)))\n",
    "char_count = len(chars)\n",
    "print('char count:', char_count)\n",
    "char_to_index = dict((c, i) for i, c in enumerate(chars))\n",
    "index_to_char = dict((i, c) for i, c in enumerate(chars))"
   ]
  },
  {
   "cell_type": "code",
   "execution_count": 24,
   "metadata": {},
   "outputs": [
    {
     "name": "stdout",
     "output_type": "stream",
     "text": [
      "sequence count: 822057\n"
     ]
    }
   ],
   "source": [
    "# split the source into overlapping sequences of characters\n",
    "sequence_length = 40 # all sequences are this length if the source is\n",
    "sequence_step = 3 # amount offset from each sequence to the next\n",
    "sequences = []\n",
    "ground_truth = []\n",
    "for i in range(0, len(source)-sequence_length, sequence_step):\n",
    "    sequences.append(source[i: i+sequence_length])\n",
    "    ground_truth.append(source[i+sequence_length])\n",
    "sequence_count = len(sequences)\n",
    "print('sequence count:', sequence_count)"
   ]
  },
  {
   "cell_type": "code",
   "execution_count": 21,
   "metadata": {},
   "outputs": [],
   "source": [
    "# convert sequences to a 3d vector where:\n",
    "#     dimension 1 is the sequences\n",
    "#     dimension 2 is the chars in a given sequence (of length sequence_length)\n",
    "#     dimension 3 contains all 0s except for a 1 in the index corresponding to\n",
    "#      the given char's dictionary key value"
   ]
  },
  {
   "cell_type": "code",
   "execution_count": 39,
   "metadata": {},
   "outputs": [],
   "source": [
    "# the given sequences\n",
    "x_train = np.zeros((sequence_count, sequence_length, char_count), dtype=np.bool)\n",
    "# what the next char after each sequence is\n",
    "y_train = np.zeros((sequence_count, char_count), dtype=np.bool)\n",
    "for i, sequence in enumerate(sequences):\n",
    "    for t, char in enumerate(sequence): # t for time!\n",
    "        x_train[i, t, char_to_index[char]] = 1\n",
    "    y_train[i, char_to_index[ground_truth[i]]] = 1"
   ]
  },
  {
   "cell_type": "markdown",
   "metadata": {},
   "source": [
    "specify the model for the RNN"
   ]
  },
  {
   "cell_type": "code",
   "execution_count": 40,
   "metadata": {},
   "outputs": [],
   "source": [
    "from keras.models import Sequential\n",
    "from keras.layers import Dense, Activation, LSTM\n",
    "from keras.optimizers import RMSprop\n",
    "# TODO: I saw another example that used 3 LSTM layers, which\n",
    "# would likely allow it to capture higher level abstractions,\n",
    "# at least on a grammatical level.  run it with 1 first since\n",
    "# it will train quicker and then once I have an MVP, improve it\n",
    "out_dim = 128\n",
    "\n",
    "model = Sequential()\n",
    "model.add(LSTM(out_dim, input_shape=(sequence_length, char_count)))\n",
    "model.add(Dense(char_count))\n",
    "model.add(Activation('softmax'))\n",
    "\n",
    "optimizer = RMSprop(lr=.01)\n",
    "# we use crossentropy because it's a form of classification problem,\n",
    "# where the classes are which character comes next\n",
    "model.compile(loss='categorical_crossentropy', optimizer=optimizer)"
   ]
  },
  {
   "cell_type": "markdown",
   "metadata": {},
   "source": [
    "define helper functions for generating text and displaying progress"
   ]
  },
  {
   "cell_type": "code",
   "execution_count": 43,
   "metadata": {},
   "outputs": [],
   "source": [
    "import random\n",
    "\n",
    "# get the highest probability index based on our predictions, the best guess from our network\n",
    "def sample_index(predictions, temperature=1.0):\n",
    "    # not sure what all the math is for, hopefully this will\n",
    "    # become more clear as I continue to work with it\n",
    "    predictions = np.asarray(predictions).astype('float64')\n",
    "    predictions = np.log(predictions) / temperature\n",
    "    exp_predictions = np.exp(predictions)\n",
    "    predictions = exp_predictions / np.sum(exp_predictions)\n",
    "    probabilities = np.random.multinomial(1, predictions, 1)\n",
    "    return np.argmax(probabilities)\n",
    "\n",
    "    \n",
    "def generate_text(output_len):\n",
    "    start_index = random.randint(0, source_len - sequence_length - 1)\n",
    "    for diversity in [.2, .5, 1.0, 1.2]:\n",
    "        \n",
    "        # grab an input sequence\n",
    "        sequence = source[start_index: start_index+sequence_length]\n",
    "        print('generating with input: \"', str(sequence), '\"')\n",
    "        \n",
    "        # vectorize it\n",
    "        # TODO: make this a function\n",
    "        for i in range(output_len):\n",
    "            x_pred = np.zeros((1, sequence_length, char_count))\n",
    "            for t, char in enumerate(sequence):\n",
    "                x_pred[0, t, char_to_index[char]] = 1\n",
    "        \n",
    "        # predict the next character\n",
    "        # not sure what the [0] is for, an added dimension for the number of vectors?  in this case, we only have one\n",
    "        predictions = model.predict(x_pred, verbose=0)[0]\n",
    "        \n",
    "        # and add it to the sequence, cutting off the earliest char so it stays the same length\n",
    "        # next_index is our best guess as to what character's index comes next\n",
    "        # predictions finds that for us from the predictions array\n",
    "        next_index = sample_index(predictions, diversity)\n",
    "        next_char = index_to_char[next_index]\n",
    "        sequence = sequence[1:] + next_char\n",
    "        \n",
    "\n",
    "def report_epoch_progress(epoch, logs):\n",
    "    print('\\n===EPOCH COMPLETE===')\n",
    "    print('end of epoch', epoch)\n",
    "    print('generating sample text...')\n",
    "    generate_text(400)"
   ]
  },
  {
   "cell_type": "markdown",
   "metadata": {},
   "source": [
    "run the RNN with the vector input to learn word usage patterns"
   ]
  },
  {
   "cell_type": "code",
   "execution_count": 46,
   "metadata": {},
   "outputs": [],
   "source": [
    "from keras.callbacks import LambdaCallback\n",
    "\n",
    "progress_callback = LambdaCallback(on_epoch_end=report_epoch_progress)"
   ]
  },
  {
   "cell_type": "code",
   "execution_count": null,
   "metadata": {},
   "outputs": [],
   "source": [
    "batch_size = 128\n",
    "epochs=60\n",
    "callbacks=[progress_callback]\n",
    "model.fit(x_train, y_train, batch_size=batch_size, epochs=epochs, callbacks=callbacks)"
   ]
  },
  {
   "cell_type": "markdown",
   "metadata": {},
   "source": [
    "Make predictions with the RNN to generate new text"
   ]
  }
 ],
 "metadata": {
  "kernelspec": {
   "display_name": "Python 3",
   "language": "python",
   "name": "python3"
  },
  "language_info": {
   "codemirror_mode": {
    "name": "ipython",
    "version": 3
   },
   "file_extension": ".py",
   "mimetype": "text/x-python",
   "name": "python",
   "nbconvert_exporter": "python",
   "pygments_lexer": "ipython3",
   "version": "3.6.5"
  }
 },
 "nbformat": 4,
 "nbformat_minor": 2
}
