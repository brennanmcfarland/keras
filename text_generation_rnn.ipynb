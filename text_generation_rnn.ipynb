{
 "cells": [
  {
   "cell_type": "markdown",
   "metadata": {},
   "source": [
    "Scrape the source plaintext from the webpage"
   ]
  },
  {
   "cell_type": "code",
   "execution_count": 57,
   "metadata": {},
   "outputs": [],
   "source": [
    "from bs4 import BeautifulSoup\n",
    "import urllib.request as urllib"
   ]
  },
  {
   "cell_type": "code",
   "execution_count": 193,
   "metadata": {},
   "outputs": [],
   "source": [
    "# sym is a symbolic link to help portability\n",
    "def source_from_html(url):\n",
    "    html = urllib.urlopen(url)\n",
    "    soup = BeautifulSoup(html, 'html.parser')\n",
    "    if url == \"file:/sym/ML/LOTR_fellowship_of_ring.html\":\n",
    "        source_tagged = soup.h3.parent.find_next_siblings('p')\n",
    "    else:\n",
    "        source_tagged = soup.h3.parent.parent.find_next_siblings('p')\n",
    "    source = ' '.join([t.get_text().replace('\\r\\n', ' ').replace('\\n', ' ') for t in source_tagged[:-2]])\n",
    "    return source"
   ]
  },
  {
   "cell_type": "code",
   "execution_count": 194,
   "metadata": {},
   "outputs": [],
   "source": [
    "# TODO: is removing punctuation necessary?  first try it without\n",
    "# doing so and see what happens\n",
    "source_urls = [\n",
    "    \"file:/sym/ML/LOTR_fellowship_of_ring.html\",\n",
    "    \"file:/sym/ML/LOTR_two_towers.html\",\n",
    "    \"file:/sym/ML/LOTR_return_of_king.html\"]\n",
    "sources = [source_from_html(source_url) for source_url in source_urls]\n",
    "source = ' '.join(sources)"
   ]
  },
  {
   "cell_type": "markdown",
   "metadata": {},
   "source": [
    "Split the source text into overlapping word sequences"
   ]
  },
  {
   "cell_type": "code",
   "execution_count": 182,
   "metadata": {},
   "outputs": [],
   "source": [
    "# split the source into overlapping subsequences of words\n",
    "# each subsequence will be converted into a vector input for the NN\n",
    "# step defines the offset of the overlapping\n",
    "def split_source(source, sequence_length, step):\n",
    "    words = source.split()\n",
    "    num_words = len(words)\n",
    "    for i in range(0, num_words-sequence_length, step):\n",
    "        yield ' '.join(words[i:i+sequence_length])\n"
   ]
  },
  {
   "cell_type": "code",
   "execution_count": 198,
   "metadata": {},
   "outputs": [],
   "source": [
    "sequence_length = 40\n",
    "step = 3\n",
    "sequences = list(split_source(source, sequence_length, step))"
   ]
  },
  {
   "cell_type": "code",
   "execution_count": 199,
   "metadata": {},
   "outputs": [
    {
     "name": "stdout",
     "output_type": "stream",
     "text": [
      "['This book is largely concerned with Hobbits, and from its pages a reader may discover much of their character and a little of their history. Further information will also be found in the selection from the Red Book of Westmarch', 'largely concerned with Hobbits, and from its pages a reader may discover much of their character and a little of their history. Further information will also be found in the selection from the Red Book of Westmarch that has already', 'Hobbits, and from its pages a reader may discover much of their character and a little of their history. Further information will also be found in the selection from the Red Book of Westmarch that has already been published, under']\n"
     ]
    }
   ],
   "source": [
    "# don't forget sequences is a generator and so must be explicitly\n",
    "# cast to a list\n",
    "print(sequences[:3])"
   ]
  },
  {
   "cell_type": "markdown",
   "metadata": {},
   "source": [
    "convert the word sequences into numerical vectors to feed into the RNN"
   ]
  },
  {
   "cell_type": "code",
   "execution_count": 189,
   "metadata": {},
   "outputs": [],
   "source": [
    "# NOTE: CANNOT USE TOKENIZER THAT ONLY WORKS FOR BAG OF WORDS\n",
    "# AND IGNORES WORD ORDER, HAVE TO DO IT THE WAY THE EXAMPLE\n",
    "# DOES INSTEAD, MANUALLY\n",
    "# TODO: the above, what the example does is creates a dictionary\n",
    "# of (key, word) pairs, then from there creates a 3d vector where:\n",
    "#     dimension 1 is the sequences\n",
    "#     dimension 2 is the words in a given sequence (of length sequence_length)\n",
    "#     dimension 3 contains all 0s except for a 1 in the index corresponding to\n",
    "#      the given word's dictionary key value\n",
    "# that may not be exactly how the example does it (it seems to do stuff with\n",
    "#  characters too), but that's how I should probably do it,\n",
    "# the result will be the input tensor that can be fed into the model"
   ]
  },
  {
   "cell_type": "code",
   "execution_count": 200,
   "metadata": {},
   "outputs": [],
   "source": [
    "# assign each word to a unique number as a dict key\n",
    "words = source.split()\n",
    "word_indices = dict((w, i) for i, w in enumerate(words))\n",
    "index_words = dict((i, w) for i, w in enumerate(words))\n",
    "corpus_size = sum(word_indices.values())"
   ]
  },
  {
   "cell_type": "code",
   "execution_count": 204,
   "metadata": {},
   "outputs": [],
   "source": [
    "import numpy as np"
   ]
  },
  {
   "cell_type": "code",
   "execution_count": 214,
   "metadata": {},
   "outputs": [
    {
     "name": "stdout",
     "output_type": "stream",
     "text": [
      "155720\n",
      "40\n",
      "9933778244\n"
     ]
    },
    {
     "ename": "MemoryError",
     "evalue": "",
     "output_type": "error",
     "traceback": [
      "\u001b[0;31m--------------------------------------------------------------------------\u001b[0m",
      "\u001b[0;31mMemoryError\u001b[0m                              Traceback (most recent call last)",
      "\u001b[0;32m<ipython-input-214-e279b2d815cc>\u001b[0m in \u001b[0;36m<module>\u001b[0;34m()\u001b[0m\n\u001b[1;32m      5\u001b[0m \u001b[0mprint\u001b[0m\u001b[0;34m(\u001b[0m\u001b[0msequence_length\u001b[0m\u001b[0;34m)\u001b[0m\u001b[0;34m\u001b[0m\u001b[0m\n\u001b[1;32m      6\u001b[0m \u001b[0mprint\u001b[0m\u001b[0;34m(\u001b[0m\u001b[0mcorpus_size\u001b[0m\u001b[0;34m)\u001b[0m\u001b[0;34m\u001b[0m\u001b[0m\n\u001b[0;32m----> 7\u001b[0;31m \u001b[0minput_vectors\u001b[0m \u001b[0;34m=\u001b[0m \u001b[0mnp\u001b[0m\u001b[0;34m.\u001b[0m\u001b[0mzeros\u001b[0m\u001b[0;34m(\u001b[0m\u001b[0;34m(\u001b[0m\u001b[0mlen\u001b[0m\u001b[0;34m(\u001b[0m\u001b[0msequences\u001b[0m\u001b[0;34m)\u001b[0m\u001b[0;34m,\u001b[0m \u001b[0msequence_length\u001b[0m\u001b[0;34m,\u001b[0m \u001b[0mcorpus_size\u001b[0m\u001b[0;34m)\u001b[0m\u001b[0;34m)\u001b[0m\u001b[0;34m\u001b[0m\u001b[0m\n\u001b[0m\u001b[1;32m      8\u001b[0m \u001b[0;34m\u001b[0m\u001b[0m\n\u001b[1;32m      9\u001b[0m \u001b[0;31m# TODO: set the index values of the words to 1 as in the example code\u001b[0m\u001b[0;34m\u001b[0m\u001b[0;34m\u001b[0m\u001b[0m\n",
      "\u001b[0;31mMemoryError\u001b[0m: "
     ]
    }
   ],
   "source": [
    "# convert the word sequences to vectors\n",
    "# TODO: it gives a memory error, because the matrix is too big!\n",
    "# need to split it up into separate training batches\n",
    "print(len(sequences))\n",
    "print(sequence_length)\n",
    "print(corpus_size)\n",
    "input_vectors = np.zeros((len(sequences), sequence_length, corpus_size))\n",
    "\n",
    "# TODO: set the index values of the words to 1 as in the example code"
   ]
  },
  {
   "cell_type": "markdown",
   "metadata": {},
   "source": [
    "specify the model for the RNN"
   ]
  },
  {
   "cell_type": "markdown",
   "metadata": {},
   "source": [
    "run the RNN with the vector input to learn word usage patterns"
   ]
  },
  {
   "cell_type": "markdown",
   "metadata": {},
   "source": [
    "Make predictions with the RNN to generate new text"
   ]
  }
 ],
 "metadata": {
  "kernelspec": {
   "display_name": "Python 3",
   "language": "python",
   "name": "python3"
  },
  "language_info": {
   "codemirror_mode": {
    "name": "ipython",
    "version": 3
   },
   "file_extension": ".py",
   "mimetype": "text/x-python",
   "name": "python",
   "nbconvert_exporter": "python",
   "pygments_lexer": "ipython3",
   "version": "3.6.5"
  }
 },
 "nbformat": 4,
 "nbformat_minor": 2
}
